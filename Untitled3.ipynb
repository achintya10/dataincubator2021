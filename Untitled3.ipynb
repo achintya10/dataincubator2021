{
 "cells": [
  {
   "cell_type": "code",
   "execution_count": 1,
   "id": "based-evaluation",
   "metadata": {},
   "outputs": [],
   "source": [
    "import pandas as pd\n",
    "longest_case2010_female_adv_pet = (pd.read_csv(\"cases_2010.csv\", usecols=[\"female_adv_pet\",\"date_of_filing\",\"date_of_decision\"])[lambda x: x['female_adv_pet'] == 1])"
   ]
  },
  {
   "cell_type": "code",
   "execution_count": 2,
   "id": "labeled-delivery",
   "metadata": {},
   "outputs": [],
   "source": [
    "longest_case2010_female_adv_pet['date_of_filing_new'] = pd.to_datetime(longest_case2010_female_adv_pet['date_of_filing'], format='%Y-%m-%d')\n",
    "longest_case2010_female_adv_pet['date_of_decision_new'] = pd.to_datetime(longest_case2010_female_adv_pet['date_of_decision'], format='%Y-%m-%d', errors = 'coerce')\n"
   ]
  },
  {
   "cell_type": "code",
   "execution_count": 7,
   "id": "tight-recording",
   "metadata": {},
   "outputs": [
    {
     "data": {
      "text/html": [
       "<div>\n",
       "<style scoped>\n",
       "    .dataframe tbody tr th:only-of-type {\n",
       "        vertical-align: middle;\n",
       "    }\n",
       "\n",
       "    .dataframe tbody tr th {\n",
       "        vertical-align: top;\n",
       "    }\n",
       "\n",
       "    .dataframe thead th {\n",
       "        text-align: right;\n",
       "    }\n",
       "</style>\n",
       "<table border=\"1\" class=\"dataframe\">\n",
       "  <thead>\n",
       "    <tr style=\"text-align: right;\">\n",
       "      <th></th>\n",
       "      <th>female_adv_pet</th>\n",
       "      <th>duration</th>\n",
       "    </tr>\n",
       "  </thead>\n",
       "  <tbody>\n",
       "    <tr>\n",
       "      <th>34</th>\n",
       "      <td>1</td>\n",
       "      <td>279 days</td>\n",
       "    </tr>\n",
       "    <tr>\n",
       "      <th>39</th>\n",
       "      <td>1</td>\n",
       "      <td>12 days</td>\n",
       "    </tr>\n",
       "    <tr>\n",
       "      <th>41</th>\n",
       "      <td>1</td>\n",
       "      <td>565 days</td>\n",
       "    </tr>\n",
       "    <tr>\n",
       "      <th>61</th>\n",
       "      <td>1</td>\n",
       "      <td>20 days</td>\n",
       "    </tr>\n",
       "    <tr>\n",
       "      <th>64</th>\n",
       "      <td>1</td>\n",
       "      <td>5 days</td>\n",
       "    </tr>\n",
       "  </tbody>\n",
       "</table>\n",
       "</div>"
      ],
      "text/plain": [
       "    female_adv_pet duration\n",
       "34               1 279 days\n",
       "39               1  12 days\n",
       "41               1 565 days\n",
       "61               1  20 days\n",
       "64               1   5 days"
      ]
     },
     "execution_count": 7,
     "metadata": {},
     "output_type": "execute_result"
    }
   ],
   "source": [
    "longest_case2010_female_adv_pet.head()"
   ]
  },
  {
   "cell_type": "code",
   "execution_count": 8,
   "id": "italic-subcommittee",
   "metadata": {},
   "outputs": [
    {
     "data": {
      "text/plain": [
       "(199534, 2)"
      ]
     },
     "execution_count": 8,
     "metadata": {},
     "output_type": "execute_result"
    }
   ],
   "source": [
    "longest_case2010_female_adv_pet.shape"
   ]
  },
  {
   "cell_type": "code",
   "execution_count": 4,
   "id": "general-infrastructure",
   "metadata": {},
   "outputs": [],
   "source": [
    "longest_case2010_female_adv_pet['duration'] = longest_case2010_female_adv_pet['date_of_decision_new'] - longest_case2010_female_adv_pet['date_of_filing_new']"
   ]
  },
  {
   "cell_type": "code",
   "execution_count": 6,
   "id": "capital-jones",
   "metadata": {},
   "outputs": [],
   "source": [
    "longest_case2010_female_adv_pet.drop(['date_of_filing','date_of_decision','date_of_filing_new','date_of_decision_new'] , axis=1, inplace = True)"
   ]
  },
  {
   "cell_type": "code",
   "execution_count": 9,
   "id": "printable-fiction",
   "metadata": {},
   "outputs": [],
   "source": [
    "longest_case2010_female_adv_pet.dropna(inplace = True)"
   ]
  },
  {
   "cell_type": "code",
   "execution_count": 10,
   "id": "artistic-patrick",
   "metadata": {},
   "outputs": [
    {
     "data": {
      "text/plain": [
       "(155283, 2)"
      ]
     },
     "execution_count": 10,
     "metadata": {},
     "output_type": "execute_result"
    }
   ],
   "source": [
    "longest_case2010_female_adv_pet.shape"
   ]
  },
  {
   "cell_type": "code",
   "execution_count": 11,
   "id": "comprehensive-assets",
   "metadata": {},
   "outputs": [],
   "source": [
    "longest_case2011_female_adv_pet = (pd.read_csv(\"cases_2011.csv\", usecols=[\"female_adv_pet\",\"date_of_filing\",\"date_of_decision\"])[lambda x: x['female_adv_pet'] == 1])"
   ]
  },
  {
   "cell_type": "code",
   "execution_count": 12,
   "id": "warming-sheep",
   "metadata": {},
   "outputs": [],
   "source": [
    "longest_case2011_female_adv_pet['date_of_filing_new'] = pd.to_datetime(longest_case2011_female_adv_pet['date_of_filing'], format='%Y-%m-%d')\n",
    "longest_case2011_female_adv_pet['date_of_decision_new'] = pd.to_datetime(longest_case2011_female_adv_pet['date_of_decision'], format='%Y-%m-%d', errors = 'coerce')\n"
   ]
  },
  {
   "cell_type": "code",
   "execution_count": 17,
   "id": "mysterious-publisher",
   "metadata": {},
   "outputs": [
    {
     "data": {
      "text/html": [
       "<div>\n",
       "<style scoped>\n",
       "    .dataframe tbody tr th:only-of-type {\n",
       "        vertical-align: middle;\n",
       "    }\n",
       "\n",
       "    .dataframe tbody tr th {\n",
       "        vertical-align: top;\n",
       "    }\n",
       "\n",
       "    .dataframe thead th {\n",
       "        text-align: right;\n",
       "    }\n",
       "</style>\n",
       "<table border=\"1\" class=\"dataframe\">\n",
       "  <thead>\n",
       "    <tr style=\"text-align: right;\">\n",
       "      <th></th>\n",
       "      <th>female_adv_pet</th>\n",
       "      <th>duration</th>\n",
       "    </tr>\n",
       "  </thead>\n",
       "  <tbody>\n",
       "    <tr>\n",
       "      <th>16</th>\n",
       "      <td>1</td>\n",
       "      <td>285 days</td>\n",
       "    </tr>\n",
       "    <tr>\n",
       "      <th>38</th>\n",
       "      <td>1</td>\n",
       "      <td>460 days</td>\n",
       "    </tr>\n",
       "    <tr>\n",
       "      <th>81</th>\n",
       "      <td>1</td>\n",
       "      <td>1459 days</td>\n",
       "    </tr>\n",
       "    <tr>\n",
       "      <th>84</th>\n",
       "      <td>1</td>\n",
       "      <td>565 days</td>\n",
       "    </tr>\n",
       "    <tr>\n",
       "      <th>93</th>\n",
       "      <td>1</td>\n",
       "      <td>736 days</td>\n",
       "    </tr>\n",
       "  </tbody>\n",
       "</table>\n",
       "</div>"
      ],
      "text/plain": [
       "    female_adv_pet  duration\n",
       "16               1  285 days\n",
       "38               1  460 days\n",
       "81               1 1459 days\n",
       "84               1  565 days\n",
       "93               1  736 days"
      ]
     },
     "execution_count": 17,
     "metadata": {},
     "output_type": "execute_result"
    }
   ],
   "source": [
    "longest_case2011_female_adv_pet.head()"
   ]
  },
  {
   "cell_type": "code",
   "execution_count": 18,
   "id": "liable-spider",
   "metadata": {},
   "outputs": [
    {
     "data": {
      "text/plain": [
       "(238011, 2)"
      ]
     },
     "execution_count": 18,
     "metadata": {},
     "output_type": "execute_result"
    }
   ],
   "source": [
    "longest_case2011_female_adv_pet.shape"
   ]
  },
  {
   "cell_type": "code",
   "execution_count": 14,
   "id": "beginning-default",
   "metadata": {},
   "outputs": [],
   "source": [
    "longest_case2011_female_adv_pet['duration'] = longest_case2011_female_adv_pet['date_of_decision_new'] - longest_case2011_female_adv_pet['date_of_filing_new']"
   ]
  },
  {
   "cell_type": "code",
   "execution_count": 16,
   "id": "under-glass",
   "metadata": {},
   "outputs": [],
   "source": [
    "longest_case2011_female_adv_pet.drop(['date_of_filing','date_of_decision','date_of_filing_new','date_of_decision_new'] , axis=1, inplace = True)"
   ]
  },
  {
   "cell_type": "code",
   "execution_count": 19,
   "id": "analyzed-satin",
   "metadata": {},
   "outputs": [],
   "source": [
    "longest_case2011_female_adv_pet.dropna(inplace = True)"
   ]
  },
  {
   "cell_type": "code",
   "execution_count": 20,
   "id": "suffering-paraguay",
   "metadata": {},
   "outputs": [
    {
     "data": {
      "text/plain": [
       "(189134, 2)"
      ]
     },
     "execution_count": 20,
     "metadata": {},
     "output_type": "execute_result"
    }
   ],
   "source": [
    "longest_case2011_female_adv_pet.shape"
   ]
  },
  {
   "cell_type": "code",
   "execution_count": 21,
   "id": "ruled-berkeley",
   "metadata": {},
   "outputs": [],
   "source": [
    "longest_case2012_female_adv_pet = (pd.read_csv(\"cases_2012.csv\", usecols=[\"female_adv_pet\",\"date_of_filing\",\"date_of_decision\"])[lambda x: x['female_adv_pet'] == 1])"
   ]
  },
  {
   "cell_type": "code",
   "execution_count": 22,
   "id": "olympic-microphone",
   "metadata": {},
   "outputs": [],
   "source": [
    "longest_case2012_female_adv_pet['date_of_filing_new'] = pd.to_datetime(longest_case2012_female_adv_pet['date_of_filing'], format='%Y-%m-%d')\n",
    "longest_case2012_female_adv_pet['date_of_decision_new'] = pd.to_datetime(longest_case2012_female_adv_pet['date_of_decision'], format='%Y-%m-%d', errors = 'coerce')\n"
   ]
  },
  {
   "cell_type": "code",
   "execution_count": 23,
   "id": "increasing-toner",
   "metadata": {},
   "outputs": [],
   "source": [
    "longest_case2012_female_adv_pet['duration'] = longest_case2012_female_adv_pet['date_of_decision_new'] - longest_case2012_female_adv_pet['date_of_filing_new']"
   ]
  },
  {
   "cell_type": "code",
   "execution_count": 24,
   "id": "immediate-original",
   "metadata": {},
   "outputs": [
    {
     "data": {
      "text/plain": [
       "(315230, 6)"
      ]
     },
     "execution_count": 24,
     "metadata": {},
     "output_type": "execute_result"
    }
   ],
   "source": [
    "longest_case2012_female_adv_pet.shape"
   ]
  },
  {
   "cell_type": "code",
   "execution_count": 25,
   "id": "constitutional-secondary",
   "metadata": {},
   "outputs": [
    {
     "data": {
      "text/html": [
       "<div>\n",
       "<style scoped>\n",
       "    .dataframe tbody tr th:only-of-type {\n",
       "        vertical-align: middle;\n",
       "    }\n",
       "\n",
       "    .dataframe tbody tr th {\n",
       "        vertical-align: top;\n",
       "    }\n",
       "\n",
       "    .dataframe thead th {\n",
       "        text-align: right;\n",
       "    }\n",
       "</style>\n",
       "<table border=\"1\" class=\"dataframe\">\n",
       "  <thead>\n",
       "    <tr style=\"text-align: right;\">\n",
       "      <th></th>\n",
       "      <th>female_adv_pet</th>\n",
       "      <th>date_of_filing</th>\n",
       "      <th>date_of_decision</th>\n",
       "      <th>date_of_filing_new</th>\n",
       "      <th>date_of_decision_new</th>\n",
       "      <th>duration</th>\n",
       "    </tr>\n",
       "  </thead>\n",
       "  <tbody>\n",
       "    <tr>\n",
       "      <th>6</th>\n",
       "      <td>1</td>\n",
       "      <td>2012-01-04</td>\n",
       "      <td>2017-08-19</td>\n",
       "      <td>2012-01-04</td>\n",
       "      <td>2017-08-19</td>\n",
       "      <td>2054 days</td>\n",
       "    </tr>\n",
       "    <tr>\n",
       "      <th>8</th>\n",
       "      <td>1</td>\n",
       "      <td>2012-01-05</td>\n",
       "      <td>2012-01-12</td>\n",
       "      <td>2012-01-05</td>\n",
       "      <td>2012-01-12</td>\n",
       "      <td>7 days</td>\n",
       "    </tr>\n",
       "    <tr>\n",
       "      <th>26</th>\n",
       "      <td>1</td>\n",
       "      <td>2012-02-15</td>\n",
       "      <td>2013-02-07</td>\n",
       "      <td>2012-02-15</td>\n",
       "      <td>2013-02-07</td>\n",
       "      <td>358 days</td>\n",
       "    </tr>\n",
       "    <tr>\n",
       "      <th>30</th>\n",
       "      <td>1</td>\n",
       "      <td>2012-02-22</td>\n",
       "      <td>2015-12-28</td>\n",
       "      <td>2012-02-22</td>\n",
       "      <td>2015-12-28</td>\n",
       "      <td>1405 days</td>\n",
       "    </tr>\n",
       "    <tr>\n",
       "      <th>40</th>\n",
       "      <td>1</td>\n",
       "      <td>2012-03-19</td>\n",
       "      <td>2012-03-19</td>\n",
       "      <td>2012-03-19</td>\n",
       "      <td>2012-03-19</td>\n",
       "      <td>0 days</td>\n",
       "    </tr>\n",
       "  </tbody>\n",
       "</table>\n",
       "</div>"
      ],
      "text/plain": [
       "    female_adv_pet date_of_filing date_of_decision date_of_filing_new  \\\n",
       "6                1     2012-01-04       2017-08-19         2012-01-04   \n",
       "8                1     2012-01-05       2012-01-12         2012-01-05   \n",
       "26               1     2012-02-15       2013-02-07         2012-02-15   \n",
       "30               1     2012-02-22       2015-12-28         2012-02-22   \n",
       "40               1     2012-03-19       2012-03-19         2012-03-19   \n",
       "\n",
       "   date_of_decision_new  duration  \n",
       "6            2017-08-19 2054 days  \n",
       "8            2012-01-12    7 days  \n",
       "26           2013-02-07  358 days  \n",
       "30           2015-12-28 1405 days  \n",
       "40           2012-03-19    0 days  "
      ]
     },
     "execution_count": 25,
     "metadata": {},
     "output_type": "execute_result"
    }
   ],
   "source": [
    "longest_case2012_female_adv_pet.head()"
   ]
  },
  {
   "cell_type": "code",
   "execution_count": 26,
   "id": "legislative-short",
   "metadata": {},
   "outputs": [],
   "source": [
    "longest_case2012_female_adv_pet.drop(['date_of_filing','date_of_decision','date_of_filing_new','date_of_decision_new'] , axis=1, inplace = True)"
   ]
  },
  {
   "cell_type": "code",
   "execution_count": 27,
   "id": "permanent-isaac",
   "metadata": {},
   "outputs": [],
   "source": [
    "longest_case2012_female_adv_pet.dropna(inplace = True)"
   ]
  },
  {
   "cell_type": "code",
   "execution_count": 28,
   "id": "empirical-profit",
   "metadata": {},
   "outputs": [
    {
     "data": {
      "text/plain": [
       "(251689, 2)"
      ]
     },
     "execution_count": 28,
     "metadata": {},
     "output_type": "execute_result"
    }
   ],
   "source": [
    "longest_case2012_female_adv_pet.shape"
   ]
  },
  {
   "cell_type": "code",
   "execution_count": 29,
   "id": "satisfactory-landscape",
   "metadata": {},
   "outputs": [
    {
     "data": {
      "text/plain": [
       "(596106, 2)"
      ]
     },
     "execution_count": 29,
     "metadata": {},
     "output_type": "execute_result"
    }
   ],
   "source": [
    "frames1 = [longest_case2010_female_adv_pet, longest_case2011_female_adv_pet, longest_case2012_female_adv_pet]\n",
    "result_df = pd.concat(frames1)\n",
    "result_df.shape"
   ]
  },
  {
   "cell_type": "code",
   "execution_count": 30,
   "id": "sealed-carolina",
   "metadata": {},
   "outputs": [],
   "source": [
    "longest_case2013_female_adv_pet = (pd.read_csv(\"cases_2013.csv\", usecols=[\"female_adv_pet\",\"date_of_filing\",\"date_of_decision\"])[lambda x: x['female_adv_pet'] == 1])"
   ]
  },
  {
   "cell_type": "code",
   "execution_count": 31,
   "id": "utility-despite",
   "metadata": {},
   "outputs": [],
   "source": [
    "longest_case2013_female_adv_pet['date_of_filing_new'] = pd.to_datetime(longest_case2013_female_adv_pet['date_of_filing'], format='%Y-%m-%d')\n",
    "longest_case2013_female_adv_pet['date_of_decision_new'] = pd.to_datetime(longest_case2013_female_adv_pet['date_of_decision'], format='%Y-%m-%d', errors = 'coerce')\n"
   ]
  },
  {
   "cell_type": "code",
   "execution_count": 32,
   "id": "cooperative-boston",
   "metadata": {},
   "outputs": [],
   "source": [
    "longest_case2013_female_adv_pet['duration'] = longest_case2013_female_adv_pet['date_of_decision_new'] - longest_case2013_female_adv_pet['date_of_filing_new']"
   ]
  },
  {
   "cell_type": "code",
   "execution_count": 33,
   "id": "revised-associate",
   "metadata": {},
   "outputs": [
    {
     "data": {
      "text/html": [
       "<div>\n",
       "<style scoped>\n",
       "    .dataframe tbody tr th:only-of-type {\n",
       "        vertical-align: middle;\n",
       "    }\n",
       "\n",
       "    .dataframe tbody tr th {\n",
       "        vertical-align: top;\n",
       "    }\n",
       "\n",
       "    .dataframe thead th {\n",
       "        text-align: right;\n",
       "    }\n",
       "</style>\n",
       "<table border=\"1\" class=\"dataframe\">\n",
       "  <thead>\n",
       "    <tr style=\"text-align: right;\">\n",
       "      <th></th>\n",
       "      <th>female_adv_pet</th>\n",
       "      <th>date_of_filing</th>\n",
       "      <th>date_of_decision</th>\n",
       "      <th>date_of_filing_new</th>\n",
       "      <th>date_of_decision_new</th>\n",
       "      <th>duration</th>\n",
       "    </tr>\n",
       "  </thead>\n",
       "  <tbody>\n",
       "    <tr>\n",
       "      <th>0</th>\n",
       "      <td>1</td>\n",
       "      <td>2013-09-19</td>\n",
       "      <td>NaN</td>\n",
       "      <td>2013-09-19</td>\n",
       "      <td>NaT</td>\n",
       "      <td>NaT</td>\n",
       "    </tr>\n",
       "    <tr>\n",
       "      <th>19</th>\n",
       "      <td>1</td>\n",
       "      <td>2013-01-30</td>\n",
       "      <td>2015-02-02</td>\n",
       "      <td>2013-01-30</td>\n",
       "      <td>2015-02-02</td>\n",
       "      <td>733 days</td>\n",
       "    </tr>\n",
       "    <tr>\n",
       "      <th>46</th>\n",
       "      <td>1</td>\n",
       "      <td>2013-02-26</td>\n",
       "      <td>2014-10-14</td>\n",
       "      <td>2013-02-26</td>\n",
       "      <td>2014-10-14</td>\n",
       "      <td>595 days</td>\n",
       "    </tr>\n",
       "    <tr>\n",
       "      <th>56</th>\n",
       "      <td>1</td>\n",
       "      <td>2013-03-08</td>\n",
       "      <td>2015-09-22</td>\n",
       "      <td>2013-03-08</td>\n",
       "      <td>2015-09-22</td>\n",
       "      <td>928 days</td>\n",
       "    </tr>\n",
       "    <tr>\n",
       "      <th>64</th>\n",
       "      <td>1</td>\n",
       "      <td>2013-03-12</td>\n",
       "      <td>2015-09-21</td>\n",
       "      <td>2013-03-12</td>\n",
       "      <td>2015-09-21</td>\n",
       "      <td>923 days</td>\n",
       "    </tr>\n",
       "  </tbody>\n",
       "</table>\n",
       "</div>"
      ],
      "text/plain": [
       "    female_adv_pet date_of_filing date_of_decision date_of_filing_new  \\\n",
       "0                1     2013-09-19              NaN         2013-09-19   \n",
       "19               1     2013-01-30       2015-02-02         2013-01-30   \n",
       "46               1     2013-02-26       2014-10-14         2013-02-26   \n",
       "56               1     2013-03-08       2015-09-22         2013-03-08   \n",
       "64               1     2013-03-12       2015-09-21         2013-03-12   \n",
       "\n",
       "   date_of_decision_new duration  \n",
       "0                   NaT      NaT  \n",
       "19           2015-02-02 733 days  \n",
       "46           2014-10-14 595 days  \n",
       "56           2015-09-22 928 days  \n",
       "64           2015-09-21 923 days  "
      ]
     },
     "execution_count": 33,
     "metadata": {},
     "output_type": "execute_result"
    }
   ],
   "source": [
    "longest_case2013_female_adv_pet.head()"
   ]
  },
  {
   "cell_type": "code",
   "execution_count": 34,
   "id": "adverse-bailey",
   "metadata": {},
   "outputs": [],
   "source": [
    "longest_case2013_female_adv_pet.drop(['date_of_filing','date_of_decision','date_of_filing_new','date_of_decision_new'] , axis=1, inplace = True)"
   ]
  },
  {
   "cell_type": "code",
   "execution_count": 35,
   "id": "young-safety",
   "metadata": {},
   "outputs": [
    {
     "data": {
      "text/html": [
       "<div>\n",
       "<style scoped>\n",
       "    .dataframe tbody tr th:only-of-type {\n",
       "        vertical-align: middle;\n",
       "    }\n",
       "\n",
       "    .dataframe tbody tr th {\n",
       "        vertical-align: top;\n",
       "    }\n",
       "\n",
       "    .dataframe thead th {\n",
       "        text-align: right;\n",
       "    }\n",
       "</style>\n",
       "<table border=\"1\" class=\"dataframe\">\n",
       "  <thead>\n",
       "    <tr style=\"text-align: right;\">\n",
       "      <th></th>\n",
       "      <th>female_adv_pet</th>\n",
       "      <th>duration</th>\n",
       "    </tr>\n",
       "  </thead>\n",
       "  <tbody>\n",
       "    <tr>\n",
       "      <th>0</th>\n",
       "      <td>1</td>\n",
       "      <td>NaT</td>\n",
       "    </tr>\n",
       "    <tr>\n",
       "      <th>19</th>\n",
       "      <td>1</td>\n",
       "      <td>733 days</td>\n",
       "    </tr>\n",
       "    <tr>\n",
       "      <th>46</th>\n",
       "      <td>1</td>\n",
       "      <td>595 days</td>\n",
       "    </tr>\n",
       "    <tr>\n",
       "      <th>56</th>\n",
       "      <td>1</td>\n",
       "      <td>928 days</td>\n",
       "    </tr>\n",
       "    <tr>\n",
       "      <th>64</th>\n",
       "      <td>1</td>\n",
       "      <td>923 days</td>\n",
       "    </tr>\n",
       "  </tbody>\n",
       "</table>\n",
       "</div>"
      ],
      "text/plain": [
       "    female_adv_pet duration\n",
       "0                1      NaT\n",
       "19               1 733 days\n",
       "46               1 595 days\n",
       "56               1 928 days\n",
       "64               1 923 days"
      ]
     },
     "execution_count": 35,
     "metadata": {},
     "output_type": "execute_result"
    }
   ],
   "source": [
    "longest_case2013_female_adv_pet.head()"
   ]
  },
  {
   "cell_type": "code",
   "execution_count": 36,
   "id": "corporate-danish",
   "metadata": {},
   "outputs": [
    {
     "data": {
      "text/plain": [
       "(350513, 2)"
      ]
     },
     "execution_count": 36,
     "metadata": {},
     "output_type": "execute_result"
    }
   ],
   "source": [
    "longest_case2013_female_adv_pet.shape"
   ]
  },
  {
   "cell_type": "code",
   "execution_count": 37,
   "id": "configured-springfield",
   "metadata": {},
   "outputs": [],
   "source": [
    "longest_case2013_female_adv_pet.dropna(inplace = True)"
   ]
  },
  {
   "cell_type": "code",
   "execution_count": 38,
   "id": "banner-battery",
   "metadata": {},
   "outputs": [
    {
     "data": {
      "text/plain": [
       "(281036, 2)"
      ]
     },
     "execution_count": 38,
     "metadata": {},
     "output_type": "execute_result"
    }
   ],
   "source": [
    "longest_case2013_female_adv_pet.shape"
   ]
  },
  {
   "cell_type": "code",
   "execution_count": 39,
   "id": "first-language",
   "metadata": {},
   "outputs": [],
   "source": [
    "longest_case2014_female_adv_pet = (pd.read_csv(\"cases_2014.csv\", usecols=[\"female_adv_pet\",\"date_of_filing\",\"date_of_decision\"])[lambda x: x['female_adv_pet'] == 1])"
   ]
  },
  {
   "cell_type": "code",
   "execution_count": 40,
   "id": "utility-phone",
   "metadata": {},
   "outputs": [],
   "source": [
    "longest_case2014_female_adv_pet['date_of_filing_new'] = pd.to_datetime(longest_case2014_female_adv_pet['date_of_filing'], format='%Y-%m-%d')\n",
    "longest_case2014_female_adv_pet['date_of_decision_new'] = pd.to_datetime(longest_case2014_female_adv_pet['date_of_decision'], format='%Y-%m-%d', errors = 'coerce')\n"
   ]
  },
  {
   "cell_type": "code",
   "execution_count": 41,
   "id": "greenhouse-bacon",
   "metadata": {},
   "outputs": [],
   "source": [
    "longest_case2014_female_adv_pet['duration'] = longest_case2014_female_adv_pet['date_of_decision_new'] - longest_case2014_female_adv_pet['date_of_filing_new']"
   ]
  },
  {
   "cell_type": "code",
   "execution_count": 42,
   "id": "golden-frank",
   "metadata": {},
   "outputs": [
    {
     "data": {
      "text/plain": [
       "(402160, 6)"
      ]
     },
     "execution_count": 42,
     "metadata": {},
     "output_type": "execute_result"
    }
   ],
   "source": [
    "longest_case2014_female_adv_pet.shape"
   ]
  },
  {
   "cell_type": "code",
   "execution_count": 46,
   "id": "downtown-barrel",
   "metadata": {},
   "outputs": [
    {
     "data": {
      "text/html": [
       "<div>\n",
       "<style scoped>\n",
       "    .dataframe tbody tr th:only-of-type {\n",
       "        vertical-align: middle;\n",
       "    }\n",
       "\n",
       "    .dataframe tbody tr th {\n",
       "        vertical-align: top;\n",
       "    }\n",
       "\n",
       "    .dataframe thead th {\n",
       "        text-align: right;\n",
       "    }\n",
       "</style>\n",
       "<table border=\"1\" class=\"dataframe\">\n",
       "  <thead>\n",
       "    <tr style=\"text-align: right;\">\n",
       "      <th></th>\n",
       "      <th>female_adv_pet</th>\n",
       "      <th>duration</th>\n",
       "    </tr>\n",
       "  </thead>\n",
       "  <tbody>\n",
       "    <tr>\n",
       "      <th>1</th>\n",
       "      <td>1</td>\n",
       "      <td>586 days</td>\n",
       "    </tr>\n",
       "    <tr>\n",
       "      <th>6</th>\n",
       "      <td>1</td>\n",
       "      <td>1458 days</td>\n",
       "    </tr>\n",
       "    <tr>\n",
       "      <th>8</th>\n",
       "      <td>1</td>\n",
       "      <td>484 days</td>\n",
       "    </tr>\n",
       "    <tr>\n",
       "      <th>31</th>\n",
       "      <td>1</td>\n",
       "      <td>162 days</td>\n",
       "    </tr>\n",
       "    <tr>\n",
       "      <th>36</th>\n",
       "      <td>1</td>\n",
       "      <td>1833 days</td>\n",
       "    </tr>\n",
       "  </tbody>\n",
       "</table>\n",
       "</div>"
      ],
      "text/plain": [
       "    female_adv_pet  duration\n",
       "1                1  586 days\n",
       "6                1 1458 days\n",
       "8                1  484 days\n",
       "31               1  162 days\n",
       "36               1 1833 days"
      ]
     },
     "execution_count": 46,
     "metadata": {},
     "output_type": "execute_result"
    }
   ],
   "source": [
    "longest_case2014_female_adv_pet.head()"
   ]
  },
  {
   "cell_type": "code",
   "execution_count": 45,
   "id": "catholic-bread",
   "metadata": {},
   "outputs": [],
   "source": [
    "longest_case2014_female_adv_pet.drop(['date_of_filing','date_of_decision','date_of_filing_new','date_of_decision_new'] , axis=1, inplace = True)"
   ]
  },
  {
   "cell_type": "code",
   "execution_count": 47,
   "id": "stone-rachel",
   "metadata": {},
   "outputs": [],
   "source": [
    "longest_case2014_female_adv_pet.dropna(inplace = True)"
   ]
  },
  {
   "cell_type": "code",
   "execution_count": 48,
   "id": "suited-wyoming",
   "metadata": {},
   "outputs": [
    {
     "data": {
      "text/plain": [
       "(313348, 2)"
      ]
     },
     "execution_count": 48,
     "metadata": {},
     "output_type": "execute_result"
    }
   ],
   "source": [
    "longest_case2014_female_adv_pet.shape"
   ]
  },
  {
   "cell_type": "code",
   "execution_count": 49,
   "id": "prepared-klein",
   "metadata": {},
   "outputs": [],
   "source": [
    "longest_case2015_female_adv_pet = (pd.read_csv(\"cases_2015.csv\", usecols=[\"female_adv_pet\",\"date_of_filing\",\"date_of_decision\"])[lambda x: x['female_adv_pet'] == 1])"
   ]
  },
  {
   "cell_type": "code",
   "execution_count": 50,
   "id": "scientific-chemical",
   "metadata": {},
   "outputs": [],
   "source": [
    "longest_case2015_female_adv_pet['date_of_filing_new'] = pd.to_datetime(longest_case2015_female_adv_pet['date_of_filing'], format='%Y-%m-%d')\n",
    "longest_case2015_female_adv_pet['date_of_decision_new'] = pd.to_datetime(longest_case2015_female_adv_pet['date_of_decision'], format='%Y-%m-%d', errors = 'coerce')\n"
   ]
  },
  {
   "cell_type": "code",
   "execution_count": 51,
   "id": "technological-essence",
   "metadata": {},
   "outputs": [],
   "source": [
    "longest_case2015_female_adv_pet['duration'] = longest_case2015_female_adv_pet['date_of_decision_new'] - longest_case2015_female_adv_pet['date_of_filing_new']"
   ]
  },
  {
   "cell_type": "code",
   "execution_count": 55,
   "id": "passive-leonard",
   "metadata": {},
   "outputs": [
    {
     "data": {
      "text/html": [
       "<div>\n",
       "<style scoped>\n",
       "    .dataframe tbody tr th:only-of-type {\n",
       "        vertical-align: middle;\n",
       "    }\n",
       "\n",
       "    .dataframe tbody tr th {\n",
       "        vertical-align: top;\n",
       "    }\n",
       "\n",
       "    .dataframe thead th {\n",
       "        text-align: right;\n",
       "    }\n",
       "</style>\n",
       "<table border=\"1\" class=\"dataframe\">\n",
       "  <thead>\n",
       "    <tr style=\"text-align: right;\">\n",
       "      <th></th>\n",
       "      <th>female_adv_pet</th>\n",
       "      <th>duration</th>\n",
       "    </tr>\n",
       "  </thead>\n",
       "  <tbody>\n",
       "    <tr>\n",
       "      <th>1</th>\n",
       "      <td>1</td>\n",
       "      <td>699 days</td>\n",
       "    </tr>\n",
       "    <tr>\n",
       "      <th>7</th>\n",
       "      <td>1</td>\n",
       "      <td>50 days</td>\n",
       "    </tr>\n",
       "    <tr>\n",
       "      <th>42</th>\n",
       "      <td>1</td>\n",
       "      <td>631 days</td>\n",
       "    </tr>\n",
       "    <tr>\n",
       "      <th>43</th>\n",
       "      <td>1</td>\n",
       "      <td>739 days</td>\n",
       "    </tr>\n",
       "    <tr>\n",
       "      <th>48</th>\n",
       "      <td>1</td>\n",
       "      <td>42 days</td>\n",
       "    </tr>\n",
       "  </tbody>\n",
       "</table>\n",
       "</div>"
      ],
      "text/plain": [
       "    female_adv_pet duration\n",
       "1                1 699 days\n",
       "7                1  50 days\n",
       "42               1 631 days\n",
       "43               1 739 days\n",
       "48               1  42 days"
      ]
     },
     "execution_count": 55,
     "metadata": {},
     "output_type": "execute_result"
    }
   ],
   "source": [
    "longest_case2015_female_adv_pet.head()"
   ]
  },
  {
   "cell_type": "code",
   "execution_count": 54,
   "id": "fatal-arkansas",
   "metadata": {},
   "outputs": [],
   "source": [
    "longest_case2015_female_adv_pet.drop(['date_of_filing','date_of_decision','date_of_filing_new','date_of_decision_new'] , axis=1, inplace = True)"
   ]
  },
  {
   "cell_type": "code",
   "execution_count": 56,
   "id": "decent-bristol",
   "metadata": {},
   "outputs": [
    {
     "data": {
      "text/plain": [
       "(470053, 2)"
      ]
     },
     "execution_count": 56,
     "metadata": {},
     "output_type": "execute_result"
    }
   ],
   "source": [
    "longest_case2015_female_adv_pet.shape"
   ]
  },
  {
   "cell_type": "code",
   "execution_count": 57,
   "id": "minimal-split",
   "metadata": {},
   "outputs": [],
   "source": [
    "longest_case2015_female_adv_pet.dropna(inplace = True)"
   ]
  },
  {
   "cell_type": "code",
   "execution_count": 58,
   "id": "brave-morning",
   "metadata": {},
   "outputs": [
    {
     "data": {
      "text/plain": [
       "(350522, 2)"
      ]
     },
     "execution_count": 58,
     "metadata": {},
     "output_type": "execute_result"
    }
   ],
   "source": [
    "longest_case2015_female_adv_pet.shape"
   ]
  },
  {
   "cell_type": "code",
   "execution_count": 59,
   "id": "pleasant-torture",
   "metadata": {},
   "outputs": [
    {
     "data": {
      "text/plain": [
       "(944906, 2)"
      ]
     },
     "execution_count": 59,
     "metadata": {},
     "output_type": "execute_result"
    }
   ],
   "source": [
    "frames2 = [longest_case2013_female_adv_pet, longest_case2014_female_adv_pet, longest_case2015_female_adv_pet]\n",
    "result_df1 = pd.concat(frames2)\n",
    "result_df1.shape"
   ]
  },
  {
   "cell_type": "code",
   "execution_count": 60,
   "id": "nonprofit-encyclopedia",
   "metadata": {},
   "outputs": [],
   "source": [
    "longest_case2016_female_adv_pet = (pd.read_csv(\"cases_2016.csv\", usecols=[\"female_adv_pet\",\"date_of_filing\",\"date_of_decision\"])[lambda x: x['female_adv_pet'] == 1])"
   ]
  },
  {
   "cell_type": "code",
   "execution_count": 61,
   "id": "roman-motel",
   "metadata": {},
   "outputs": [],
   "source": [
    "longest_case2016_female_adv_pet['date_of_filing_new'] = pd.to_datetime(longest_case2016_female_adv_pet['date_of_filing'], format='%Y-%m-%d')\n",
    "longest_case2016_female_adv_pet['date_of_decision_new'] = pd.to_datetime(longest_case2016_female_adv_pet['date_of_decision'], format='%Y-%m-%d', errors = 'coerce')\n"
   ]
  },
  {
   "cell_type": "code",
   "execution_count": 62,
   "id": "adolescent-leader",
   "metadata": {},
   "outputs": [],
   "source": [
    "longest_case2016_female_adv_pet['duration'] = longest_case2016_female_adv_pet['date_of_decision_new'] - longest_case2016_female_adv_pet['date_of_filing_new']"
   ]
  },
  {
   "cell_type": "code",
   "execution_count": 65,
   "id": "systematic-screw",
   "metadata": {},
   "outputs": [
    {
     "data": {
      "text/html": [
       "<div>\n",
       "<style scoped>\n",
       "    .dataframe tbody tr th:only-of-type {\n",
       "        vertical-align: middle;\n",
       "    }\n",
       "\n",
       "    .dataframe tbody tr th {\n",
       "        vertical-align: top;\n",
       "    }\n",
       "\n",
       "    .dataframe thead th {\n",
       "        text-align: right;\n",
       "    }\n",
       "</style>\n",
       "<table border=\"1\" class=\"dataframe\">\n",
       "  <thead>\n",
       "    <tr style=\"text-align: right;\">\n",
       "      <th></th>\n",
       "      <th>female_adv_pet</th>\n",
       "      <th>duration</th>\n",
       "    </tr>\n",
       "  </thead>\n",
       "  <tbody>\n",
       "    <tr>\n",
       "      <th>3</th>\n",
       "      <td>1</td>\n",
       "      <td>519 days</td>\n",
       "    </tr>\n",
       "    <tr>\n",
       "      <th>6</th>\n",
       "      <td>1</td>\n",
       "      <td>169 days</td>\n",
       "    </tr>\n",
       "    <tr>\n",
       "      <th>12</th>\n",
       "      <td>1</td>\n",
       "      <td>NaT</td>\n",
       "    </tr>\n",
       "    <tr>\n",
       "      <th>25</th>\n",
       "      <td>1</td>\n",
       "      <td>45 days</td>\n",
       "    </tr>\n",
       "    <tr>\n",
       "      <th>26</th>\n",
       "      <td>1</td>\n",
       "      <td>529 days</td>\n",
       "    </tr>\n",
       "  </tbody>\n",
       "</table>\n",
       "</div>"
      ],
      "text/plain": [
       "    female_adv_pet duration\n",
       "3                1 519 days\n",
       "6                1 169 days\n",
       "12               1      NaT\n",
       "25               1  45 days\n",
       "26               1 529 days"
      ]
     },
     "execution_count": 65,
     "metadata": {},
     "output_type": "execute_result"
    }
   ],
   "source": [
    "longest_case2016_female_adv_pet.head()"
   ]
  },
  {
   "cell_type": "code",
   "execution_count": 66,
   "id": "missing-buying",
   "metadata": {},
   "outputs": [
    {
     "data": {
      "text/plain": [
       "(468687, 2)"
      ]
     },
     "execution_count": 66,
     "metadata": {},
     "output_type": "execute_result"
    }
   ],
   "source": [
    "longest_case2016_female_adv_pet.shape"
   ]
  },
  {
   "cell_type": "code",
   "execution_count": 64,
   "id": "intermediate-whole",
   "metadata": {},
   "outputs": [],
   "source": [
    "longest_case2016_female_adv_pet.drop(['date_of_filing','date_of_decision','date_of_filing_new','date_of_decision_new'] , axis=1, inplace = True)"
   ]
  },
  {
   "cell_type": "code",
   "execution_count": 67,
   "id": "committed-subsection",
   "metadata": {},
   "outputs": [],
   "source": [
    "longest_case2016_female_adv_pet.dropna(inplace = True)"
   ]
  },
  {
   "cell_type": "code",
   "execution_count": 68,
   "id": "excellent-valuable",
   "metadata": {},
   "outputs": [
    {
     "data": {
      "text/plain": [
       "(319028, 2)"
      ]
     },
     "execution_count": 68,
     "metadata": {},
     "output_type": "execute_result"
    }
   ],
   "source": [
    "longest_case2016_female_adv_pet.shape"
   ]
  },
  {
   "cell_type": "code",
   "execution_count": 69,
   "id": "inside-greece",
   "metadata": {},
   "outputs": [],
   "source": [
    "longest_case2017_female_adv_pet = (pd.read_csv(\"cases_2017.csv\", usecols=[\"female_adv_pet\",\"date_of_filing\",\"date_of_decision\"])[lambda x: x['female_adv_pet'] == 1])"
   ]
  },
  {
   "cell_type": "code",
   "execution_count": 70,
   "id": "backed-knock",
   "metadata": {},
   "outputs": [],
   "source": [
    "longest_case2017_female_adv_pet['date_of_filing_new'] = pd.to_datetime(longest_case2017_female_adv_pet['date_of_filing'], format='%Y-%m-%d')\n",
    "longest_case2017_female_adv_pet['date_of_decision_new'] = pd.to_datetime(longest_case2017_female_adv_pet['date_of_decision'], format='%Y-%m-%d', errors = 'coerce')\n"
   ]
  },
  {
   "cell_type": "code",
   "execution_count": 71,
   "id": "prospective-corner",
   "metadata": {},
   "outputs": [],
   "source": [
    "longest_case2017_female_adv_pet['duration'] = longest_case2017_female_adv_pet['date_of_decision_new'] - longest_case2017_female_adv_pet['date_of_filing_new']"
   ]
  },
  {
   "cell_type": "code",
   "execution_count": 72,
   "id": "nonprofit-graphic",
   "metadata": {},
   "outputs": [
    {
     "data": {
      "text/html": [
       "<div>\n",
       "<style scoped>\n",
       "    .dataframe tbody tr th:only-of-type {\n",
       "        vertical-align: middle;\n",
       "    }\n",
       "\n",
       "    .dataframe tbody tr th {\n",
       "        vertical-align: top;\n",
       "    }\n",
       "\n",
       "    .dataframe thead th {\n",
       "        text-align: right;\n",
       "    }\n",
       "</style>\n",
       "<table border=\"1\" class=\"dataframe\">\n",
       "  <thead>\n",
       "    <tr style=\"text-align: right;\">\n",
       "      <th></th>\n",
       "      <th>female_adv_pet</th>\n",
       "      <th>date_of_filing</th>\n",
       "      <th>date_of_decision</th>\n",
       "      <th>date_of_filing_new</th>\n",
       "      <th>date_of_decision_new</th>\n",
       "      <th>duration</th>\n",
       "    </tr>\n",
       "  </thead>\n",
       "  <tbody>\n",
       "    <tr>\n",
       "      <th>1</th>\n",
       "      <td>1</td>\n",
       "      <td>2017-01-04</td>\n",
       "      <td>2017-02-27</td>\n",
       "      <td>2017-01-04</td>\n",
       "      <td>2017-02-27</td>\n",
       "      <td>54 days</td>\n",
       "    </tr>\n",
       "    <tr>\n",
       "      <th>3</th>\n",
       "      <td>1</td>\n",
       "      <td>2017-01-04</td>\n",
       "      <td>2017-02-14</td>\n",
       "      <td>2017-01-04</td>\n",
       "      <td>2017-02-14</td>\n",
       "      <td>41 days</td>\n",
       "    </tr>\n",
       "    <tr>\n",
       "      <th>8</th>\n",
       "      <td>1</td>\n",
       "      <td>2017-01-09</td>\n",
       "      <td>2017-01-24</td>\n",
       "      <td>2017-01-09</td>\n",
       "      <td>2017-01-24</td>\n",
       "      <td>15 days</td>\n",
       "    </tr>\n",
       "    <tr>\n",
       "      <th>15</th>\n",
       "      <td>1</td>\n",
       "      <td>2017-01-12</td>\n",
       "      <td>NaN</td>\n",
       "      <td>2017-01-12</td>\n",
       "      <td>NaT</td>\n",
       "      <td>NaT</td>\n",
       "    </tr>\n",
       "    <tr>\n",
       "      <th>16</th>\n",
       "      <td>1</td>\n",
       "      <td>2017-01-13</td>\n",
       "      <td>2017-03-31</td>\n",
       "      <td>2017-01-13</td>\n",
       "      <td>2017-03-31</td>\n",
       "      <td>77 days</td>\n",
       "    </tr>\n",
       "  </tbody>\n",
       "</table>\n",
       "</div>"
      ],
      "text/plain": [
       "    female_adv_pet date_of_filing date_of_decision date_of_filing_new  \\\n",
       "1                1     2017-01-04       2017-02-27         2017-01-04   \n",
       "3                1     2017-01-04       2017-02-14         2017-01-04   \n",
       "8                1     2017-01-09       2017-01-24         2017-01-09   \n",
       "15               1     2017-01-12              NaN         2017-01-12   \n",
       "16               1     2017-01-13       2017-03-31         2017-01-13   \n",
       "\n",
       "   date_of_decision_new duration  \n",
       "1            2017-02-27  54 days  \n",
       "3            2017-02-14  41 days  \n",
       "8            2017-01-24  15 days  \n",
       "15                  NaT      NaT  \n",
       "16           2017-03-31  77 days  "
      ]
     },
     "execution_count": 72,
     "metadata": {},
     "output_type": "execute_result"
    }
   ],
   "source": [
    "longest_case2017_female_adv_pet.head()"
   ]
  },
  {
   "cell_type": "code",
   "execution_count": 81,
   "id": "saving-encounter",
   "metadata": {},
   "outputs": [],
   "source": [
    "longest_case2017_female_adv_pet.drop(['date_of_filing','date_of_decision','date_of_filing_new','date_of_decision_new'] , axis=1, inplace = True)"
   ]
  },
  {
   "cell_type": "code",
   "execution_count": 82,
   "id": "interpreted-marshall",
   "metadata": {},
   "outputs": [
    {
     "data": {
      "text/plain": [
       "(300297, 2)"
      ]
     },
     "execution_count": 82,
     "metadata": {},
     "output_type": "execute_result"
    }
   ],
   "source": [
    "longest_case2017_female_adv_pet.shape"
   ]
  },
  {
   "cell_type": "code",
   "execution_count": 74,
   "id": "mobile-person",
   "metadata": {},
   "outputs": [],
   "source": [
    "longest_case2017_female_adv_pet.dropna(inplace = True)"
   ]
  },
  {
   "cell_type": "code",
   "execution_count": 75,
   "id": "opened-structure",
   "metadata": {},
   "outputs": [
    {
     "data": {
      "text/plain": [
       "(300297, 6)"
      ]
     },
     "execution_count": 75,
     "metadata": {},
     "output_type": "execute_result"
    }
   ],
   "source": [
    "longest_case2017_female_adv_pet.shape"
   ]
  },
  {
   "cell_type": "code",
   "execution_count": 76,
   "id": "fundamental-stress",
   "metadata": {},
   "outputs": [],
   "source": [
    "longest_case2018_female_adv_pet = (pd.read_csv(\"cases_2018.csv\", usecols=[\"female_adv_pet\",\"date_of_filing\",\"date_of_decision\"])[lambda x: x['female_adv_pet'] == 1])"
   ]
  },
  {
   "cell_type": "code",
   "execution_count": 77,
   "id": "caring-philip",
   "metadata": {},
   "outputs": [],
   "source": [
    "longest_case2018_female_adv_pet['date_of_filing_new'] = pd.to_datetime(longest_case2018_female_adv_pet['date_of_filing'], format='%Y-%m-%d')\n",
    "longest_case2018_female_adv_pet['date_of_decision_new'] = pd.to_datetime(longest_case2018_female_adv_pet['date_of_decision'], format='%Y-%m-%d', errors = 'coerce')\n"
   ]
  },
  {
   "cell_type": "code",
   "execution_count": 78,
   "id": "indonesian-maryland",
   "metadata": {},
   "outputs": [],
   "source": [
    "longest_case2018_female_adv_pet['duration'] = longest_case2018_female_adv_pet['date_of_decision_new'] - longest_case2018_female_adv_pet['date_of_filing_new']"
   ]
  },
  {
   "cell_type": "code",
   "execution_count": 79,
   "id": "convenient-strength",
   "metadata": {},
   "outputs": [
    {
     "data": {
      "text/html": [
       "<div>\n",
       "<style scoped>\n",
       "    .dataframe tbody tr th:only-of-type {\n",
       "        vertical-align: middle;\n",
       "    }\n",
       "\n",
       "    .dataframe tbody tr th {\n",
       "        vertical-align: top;\n",
       "    }\n",
       "\n",
       "    .dataframe thead th {\n",
       "        text-align: right;\n",
       "    }\n",
       "</style>\n",
       "<table border=\"1\" class=\"dataframe\">\n",
       "  <thead>\n",
       "    <tr style=\"text-align: right;\">\n",
       "      <th></th>\n",
       "      <th>female_adv_pet</th>\n",
       "      <th>date_of_filing</th>\n",
       "      <th>date_of_decision</th>\n",
       "      <th>date_of_filing_new</th>\n",
       "      <th>date_of_decision_new</th>\n",
       "      <th>duration</th>\n",
       "    </tr>\n",
       "  </thead>\n",
       "  <tbody>\n",
       "    <tr>\n",
       "      <th>4</th>\n",
       "      <td>1</td>\n",
       "      <td>2018-01-01</td>\n",
       "      <td>2018-01-09</td>\n",
       "      <td>2018-01-01</td>\n",
       "      <td>2018-01-09</td>\n",
       "      <td>8 days</td>\n",
       "    </tr>\n",
       "    <tr>\n",
       "      <th>7</th>\n",
       "      <td>1</td>\n",
       "      <td>2018-01-03</td>\n",
       "      <td>NaN</td>\n",
       "      <td>2018-01-03</td>\n",
       "      <td>NaT</td>\n",
       "      <td>NaT</td>\n",
       "    </tr>\n",
       "    <tr>\n",
       "      <th>13</th>\n",
       "      <td>1</td>\n",
       "      <td>2018-01-09</td>\n",
       "      <td>NaN</td>\n",
       "      <td>2018-01-09</td>\n",
       "      <td>NaT</td>\n",
       "      <td>NaT</td>\n",
       "    </tr>\n",
       "    <tr>\n",
       "      <th>28</th>\n",
       "      <td>1</td>\n",
       "      <td>2018-01-23</td>\n",
       "      <td>2018-03-06</td>\n",
       "      <td>2018-01-23</td>\n",
       "      <td>2018-03-06</td>\n",
       "      <td>42 days</td>\n",
       "    </tr>\n",
       "    <tr>\n",
       "      <th>29</th>\n",
       "      <td>1</td>\n",
       "      <td>2018-01-24</td>\n",
       "      <td>2018-03-16</td>\n",
       "      <td>2018-01-24</td>\n",
       "      <td>2018-03-16</td>\n",
       "      <td>51 days</td>\n",
       "    </tr>\n",
       "  </tbody>\n",
       "</table>\n",
       "</div>"
      ],
      "text/plain": [
       "    female_adv_pet date_of_filing date_of_decision date_of_filing_new  \\\n",
       "4                1     2018-01-01       2018-01-09         2018-01-01   \n",
       "7                1     2018-01-03              NaN         2018-01-03   \n",
       "13               1     2018-01-09              NaN         2018-01-09   \n",
       "28               1     2018-01-23       2018-03-06         2018-01-23   \n",
       "29               1     2018-01-24       2018-03-16         2018-01-24   \n",
       "\n",
       "   date_of_decision_new duration  \n",
       "4            2018-01-09   8 days  \n",
       "7                   NaT      NaT  \n",
       "13                  NaT      NaT  \n",
       "28           2018-03-06  42 days  \n",
       "29           2018-03-16  51 days  "
      ]
     },
     "execution_count": 79,
     "metadata": {},
     "output_type": "execute_result"
    }
   ],
   "source": [
    "longest_case2018_female_adv_pet.head()"
   ]
  },
  {
   "cell_type": "code",
   "execution_count": 80,
   "id": "automatic-application",
   "metadata": {},
   "outputs": [
    {
     "data": {
      "text/plain": [
       "(1135526, 6)"
      ]
     },
     "execution_count": 80,
     "metadata": {},
     "output_type": "execute_result"
    }
   ],
   "source": [
    "longest_case2018_female_adv_pet.shape"
   ]
  },
  {
   "cell_type": "code",
   "execution_count": 83,
   "id": "civic-egyptian",
   "metadata": {},
   "outputs": [],
   "source": [
    "longest_case2018_female_adv_pet.drop(['date_of_filing','date_of_decision','date_of_filing_new','date_of_decision_new'] , axis=1, inplace = True)"
   ]
  },
  {
   "cell_type": "code",
   "execution_count": 84,
   "id": "completed-placement",
   "metadata": {},
   "outputs": [],
   "source": [
    "longest_case2018_female_adv_pet.dropna(inplace = True)"
   ]
  },
  {
   "cell_type": "code",
   "execution_count": 85,
   "id": "labeled-percentage",
   "metadata": {},
   "outputs": [
    {
     "data": {
      "text/plain": [
       "(554453, 2)"
      ]
     },
     "execution_count": 85,
     "metadata": {},
     "output_type": "execute_result"
    }
   ],
   "source": [
    "longest_case2018_female_adv_pet.shape"
   ]
  },
  {
   "cell_type": "code",
   "execution_count": 86,
   "id": "solved-breakdown",
   "metadata": {},
   "outputs": [],
   "source": [
    "frames3 = [longest_case2016_female_adv_pet, longest_case2017_female_adv_pet, longest_case2018_female_adv_pet]"
   ]
  },
  {
   "cell_type": "code",
   "execution_count": 87,
   "id": "arabic-chemical",
   "metadata": {},
   "outputs": [],
   "source": [
    "result_df2 = pd.concat(frames3)\n",
    "final_data = [result_df, result_df1, result_df2]\n",
    "final_df = pd.concat(final_data)"
   ]
  },
  {
   "cell_type": "code",
   "execution_count": 88,
   "id": "mental-loading",
   "metadata": {},
   "outputs": [
    {
     "ename": "NameError",
     "evalue": "name 'maximum_duration' is not defined",
     "output_type": "error",
     "traceback": [
      "\u001b[1;31m---------------------------------------------------------------------------\u001b[0m",
      "\u001b[1;31mNameError\u001b[0m                                 Traceback (most recent call last)",
      "\u001b[1;32m<ipython-input-88-f7eaf0889dec>\u001b[0m in \u001b[0;36m<module>\u001b[1;34m\u001b[0m\n\u001b[0;32m      1\u001b[0m \u001b[0mmaximu_duration_pet\u001b[0m \u001b[1;33m=\u001b[0m \u001b[0mfinal_df\u001b[0m\u001b[1;33m[\u001b[0m\u001b[1;34m'duration'\u001b[0m\u001b[1;33m]\u001b[0m\u001b[1;33m.\u001b[0m\u001b[0mmax\u001b[0m\u001b[1;33m(\u001b[0m\u001b[1;33m)\u001b[0m\u001b[1;33m\u001b[0m\u001b[1;33m\u001b[0m\u001b[0m\n\u001b[1;32m----> 2\u001b[1;33m \u001b[0mprint\u001b[0m\u001b[1;33m(\u001b[0m\u001b[0mmaximum_duration\u001b[0m\u001b[1;33m.\u001b[0m\u001b[0mdays\u001b[0m\u001b[1;33m)\u001b[0m\u001b[1;33m\u001b[0m\u001b[1;33m\u001b[0m\u001b[0m\n\u001b[0m",
      "\u001b[1;31mNameError\u001b[0m: name 'maximum_duration' is not defined"
     ]
    }
   ],
   "source": [
    "maximu_duration_pet = final_df['duration'].max()\n"
   ]
  },
  {
   "cell_type": "code",
   "execution_count": 91,
   "id": "organizational-village",
   "metadata": {},
   "outputs": [
    {
     "name": "stdout",
     "output_type": "stream",
     "text": [
      "Maximum days female advocate petitioned 33218\n"
     ]
    }
   ],
   "source": [
    "print('Maximum days female advocate petitioned',maximu_duration_pet.days)"
   ]
  },
  {
   "cell_type": "code",
   "execution_count": null,
   "id": "conceptual-spanking",
   "metadata": {},
   "outputs": [],
   "source": []
  }
 ],
 "metadata": {
  "kernelspec": {
   "display_name": "Python 3",
   "language": "python",
   "name": "python3"
  },
  "language_info": {
   "codemirror_mode": {
    "name": "ipython",
    "version": 3
   },
   "file_extension": ".py",
   "mimetype": "text/x-python",
   "name": "python",
   "nbconvert_exporter": "python",
   "pygments_lexer": "ipython3",
   "version": "3.8.7"
  }
 },
 "nbformat": 4,
 "nbformat_minor": 5
}
