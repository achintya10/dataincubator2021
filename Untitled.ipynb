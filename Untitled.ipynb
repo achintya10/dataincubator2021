{
 "cells": [
  {
   "cell_type": "code",
   "execution_count": 33,
   "id": "pursuant-blink",
   "metadata": {},
   "outputs": [],
   "source": [
    "import pandas as pd\n",
    "cases2010 = pd.read_csv(\"cases_2010.csv\")"
   ]
  },
  {
   "cell_type": "code",
   "execution_count": 3,
   "id": "subtle-residence",
   "metadata": {},
   "outputs": [],
   "source": [
    "#cases2010.shape"
   ]
  },
  {
   "cell_type": "code",
   "execution_count": 34,
   "id": "executed-orlando",
   "metadata": {},
   "outputs": [
    {
     "data": {
      "text/plain": [
       "Index(['ddl_case_id', 'year', 'state_code', 'dist_code', 'court_no',\n",
       "       'judge_position', 'female_defendant', 'female_adv_def',\n",
       "       'female_adv_pet', 'type_name', 'purpose_name', 'disp_name',\n",
       "       'date_of_filing', 'date_of_decision', 'date_first_list',\n",
       "       'date_last_list', 'date_next_list'],\n",
       "      dtype='object')"
      ]
     },
     "execution_count": 34,
     "metadata": {},
     "output_type": "execute_result"
    }
   ],
   "source": [
    "cases2010.columns"
   ]
  },
  {
   "cell_type": "code",
   "execution_count": 4,
   "id": "second-colombia",
   "metadata": {},
   "outputs": [],
   "source": [
    "#cases2010['state_code'].value_counts()"
   ]
  },
  {
   "cell_type": "code",
   "execution_count": 5,
   "id": "integrated-isaac",
   "metadata": {},
   "outputs": [],
   "source": [
    "#print(cases2010['judge_position'].value_counts(normalize=True))\n",
    "#cases2010['judge_position'].value_counts()"
   ]
  },
  {
   "cell_type": "code",
   "execution_count": 9,
   "id": "initial-soundtrack",
   "metadata": {},
   "outputs": [
    {
     "data": {
      "text/plain": [
       "-9999    3221613\n",
       " 0        858237\n",
       "-9998     119833\n",
       " 1         81644\n",
       "Name: female_adv_def, dtype: int64"
      ]
     },
     "execution_count": 9,
     "metadata": {},
     "output_type": "execute_result"
    }
   ],
   "source": [
    "cases2010['female_adv_def'].value_counts()"
   ]
  },
  {
   "cell_type": "code",
   "execution_count": 10,
   "id": "normal-specification",
   "metadata": {},
   "outputs": [
    {
     "data": {
      "text/plain": [
       "-9999    1965536\n",
       " 0       1611566\n",
       "-9998     504691\n",
       " 1        199534\n",
       "Name: female_adv_pet, dtype: int64"
      ]
     },
     "execution_count": 10,
     "metadata": {},
     "output_type": "execute_result"
    }
   ],
   "source": [
    "cases2010['female_adv_pet'].value_counts()"
   ]
  },
  {
   "cell_type": "code",
   "execution_count": 6,
   "id": "killing-banks",
   "metadata": {},
   "outputs": [],
   "source": [
    "import pandas as pd\n",
    "#cases2011 = pd.read_csv(\"cases_2011.csv\")\n",
    "#cases2012 = pd.read_csv(\"cases_2012.csv\")\n",
    "#cases2013 = pd.read_csv(\"cases_2013.csv\")\n",
    "#cases2014 = pd.read_csv(\"cases_2014.csv\")\n",
    "#cases2015 = pd.read_csv(\"cases_2015.csv\")\n",
    "#cases2016 = pd.read_csv(\"cases_2016.csv\")\n",
    "#cases2017 = pd.read_csv(\"cases_2017.csv\")\n",
    "#cases2018 = pd.read_csv(\"cases_2018.csv\")\n",
    "cases2010_min = pd.read_csv(\"cases_2010.csv\", usecols=[\"year\",\"female_adv_pet\"])\n"
   ]
  },
  {
   "cell_type": "code",
   "execution_count": 7,
   "id": "manufactured-squad",
   "metadata": {},
   "outputs": [
    {
     "data": {
      "text/html": [
       "<div>\n",
       "<style scoped>\n",
       "    .dataframe tbody tr th:only-of-type {\n",
       "        vertical-align: middle;\n",
       "    }\n",
       "\n",
       "    .dataframe tbody tr th {\n",
       "        vertical-align: top;\n",
       "    }\n",
       "\n",
       "    .dataframe thead th {\n",
       "        text-align: right;\n",
       "    }\n",
       "</style>\n",
       "<table border=\"1\" class=\"dataframe\">\n",
       "  <thead>\n",
       "    <tr style=\"text-align: right;\">\n",
       "      <th></th>\n",
       "      <th>year</th>\n",
       "      <th>female_adv_pet</th>\n",
       "    </tr>\n",
       "  </thead>\n",
       "  <tbody>\n",
       "    <tr>\n",
       "      <th>0</th>\n",
       "      <td>2010</td>\n",
       "      <td>-9998</td>\n",
       "    </tr>\n",
       "    <tr>\n",
       "      <th>1</th>\n",
       "      <td>2010</td>\n",
       "      <td>0</td>\n",
       "    </tr>\n",
       "    <tr>\n",
       "      <th>2</th>\n",
       "      <td>2010</td>\n",
       "      <td>0</td>\n",
       "    </tr>\n",
       "    <tr>\n",
       "      <th>3</th>\n",
       "      <td>2010</td>\n",
       "      <td>0</td>\n",
       "    </tr>\n",
       "    <tr>\n",
       "      <th>4</th>\n",
       "      <td>2010</td>\n",
       "      <td>0</td>\n",
       "    </tr>\n",
       "  </tbody>\n",
       "</table>\n",
       "</div>"
      ],
      "text/plain": [
       "   year  female_adv_pet\n",
       "0  2010           -9998\n",
       "1  2010               0\n",
       "2  2010               0\n",
       "3  2010               0\n",
       "4  2010               0"
      ]
     },
     "execution_count": 7,
     "metadata": {},
     "output_type": "execute_result"
    }
   ],
   "source": [
    "cases2010_min.head()"
   ]
  },
  {
   "cell_type": "code",
   "execution_count": 8,
   "id": "plain-injection",
   "metadata": {},
   "outputs": [],
   "source": [
    "cases2011_min = pd.read_csv(\"cases_2011.csv\", usecols=[\"year\",\"female_adv_pet\"])\n",
    "cases2012_min = pd.read_csv(\"cases_2012.csv\", usecols=[\"year\",\"female_adv_pet\"])\n",
    "cases2013_min = pd.read_csv(\"cases_2013.csv\", usecols=[\"year\",\"female_adv_pet\"])\n",
    "cases2014_min = pd.read_csv(\"cases_2014.csv\", usecols=[\"year\",\"female_adv_pet\"])\n",
    "cases2015_min = pd.read_csv(\"cases_2015.csv\", usecols=[\"year\",\"female_adv_pet\"])\n",
    "cases2016_min = pd.read_csv(\"cases_2016.csv\", usecols=[\"year\",\"female_adv_pet\"])\n",
    "cases2017_min = pd.read_csv(\"cases_2017.csv\", usecols=[\"year\",\"female_adv_pet\"])\n",
    "cases2018_min = pd.read_csv(\"cases_2018.csv\", usecols=[\"year\",\"female_adv_pet\"])"
   ]
  },
  {
   "cell_type": "code",
   "execution_count": 9,
   "id": "charitable-paintball",
   "metadata": {},
   "outputs": [
    {
     "data": {
      "text/plain": [
       "0          False\n",
       "1          False\n",
       "2          False\n",
       "3          False\n",
       "4          False\n",
       "           ...  \n",
       "4281322     True\n",
       "4281323    False\n",
       "4281324    False\n",
       "4281325    False\n",
       "4281326    False\n",
       "Name: female_adv_pet, Length: 4281327, dtype: bool"
      ]
     },
     "execution_count": 9,
     "metadata": {},
     "output_type": "execute_result"
    }
   ],
   "source": [
    "#female_adv_pet2010 = \n",
    "cases2010_min['female_adv_pet'] == 1"
   ]
  },
  {
   "cell_type": "code",
   "execution_count": 20,
   "id": "prompt-female",
   "metadata": {},
   "outputs": [],
   "source": [
    "female_adv_pet = list()\n",
    "female_adv_pet.append((2010,int(cases2010_min[cases2010_min['female_adv_pet'] == 1].value_counts())))"
   ]
  },
  {
   "cell_type": "code",
   "execution_count": 21,
   "id": "forbidden-murder",
   "metadata": {},
   "outputs": [
    {
     "name": "stdout",
     "output_type": "stream",
     "text": [
      "[(2010, 199534)]\n"
     ]
    }
   ],
   "source": [
    "print(female_adv_pet)"
   ]
  },
  {
   "cell_type": "code",
   "execution_count": 22,
   "id": "general-fence",
   "metadata": {},
   "outputs": [],
   "source": [
    "female_adv_pet.append((2011,int(cases2011_min[cases2011_min['female_adv_pet'] == 1].value_counts())))"
   ]
  },
  {
   "cell_type": "code",
   "execution_count": 23,
   "id": "earned-dispatch",
   "metadata": {},
   "outputs": [
    {
     "name": "stdout",
     "output_type": "stream",
     "text": [
      "[(2010, 199534), (2011, 238011)]\n"
     ]
    }
   ],
   "source": [
    "print(female_adv_pet)"
   ]
  },
  {
   "cell_type": "code",
   "execution_count": 24,
   "id": "linear-short",
   "metadata": {},
   "outputs": [],
   "source": [
    "female_adv_pet.append((2012,int(cases2012_min[cases2012_min['female_adv_pet'] == 1].value_counts())))\n",
    "female_adv_pet.append((2013,int(cases2013_min[cases2013_min['female_adv_pet'] == 1].value_counts())))\n",
    "female_adv_pet.append((2014,int(cases2014_min[cases2014_min['female_adv_pet'] == 1].value_counts())))\n",
    "female_adv_pet.append((2015,int(cases2015_min[cases2015_min['female_adv_pet'] == 1].value_counts())))\n",
    "female_adv_pet.append((2016,int(cases2016_min[cases2016_min['female_adv_pet'] == 1].value_counts())))\n",
    "female_adv_pet.append((2017,int(cases2017_min[cases2017_min['female_adv_pet'] == 1].value_counts())))\n",
    "female_adv_pet.append((2018,int(cases2018_min[cases2018_min['female_adv_pet'] == 1].value_counts())))"
   ]
  },
  {
   "cell_type": "code",
   "execution_count": 25,
   "id": "mexican-london",
   "metadata": {},
   "outputs": [
    {
     "name": "stdout",
     "output_type": "stream",
     "text": [
      "[(2010, 199534), (2011, 238011), (2012, 315230), (2013, 350513), (2014, 402160), (2015, 470053), (2016, 468687), (2017, 497888), (2018, 1135526)]\n"
     ]
    }
   ],
   "source": [
    "print(female_adv_pet)"
   ]
  },
  {
   "cell_type": "code",
   "execution_count": 26,
   "id": "heard-recipient",
   "metadata": {},
   "outputs": [],
   "source": [
    "df = pd.DataFrame(female_adv_pet, columns = ['Year', 'female_adv_pet_count'])"
   ]
  },
  {
   "cell_type": "code",
   "execution_count": 27,
   "id": "pending-small",
   "metadata": {},
   "outputs": [
    {
     "data": {
      "text/html": [
       "<div>\n",
       "<style scoped>\n",
       "    .dataframe tbody tr th:only-of-type {\n",
       "        vertical-align: middle;\n",
       "    }\n",
       "\n",
       "    .dataframe tbody tr th {\n",
       "        vertical-align: top;\n",
       "    }\n",
       "\n",
       "    .dataframe thead th {\n",
       "        text-align: right;\n",
       "    }\n",
       "</style>\n",
       "<table border=\"1\" class=\"dataframe\">\n",
       "  <thead>\n",
       "    <tr style=\"text-align: right;\">\n",
       "      <th></th>\n",
       "      <th>Year</th>\n",
       "      <th>female_adv_pet_count</th>\n",
       "    </tr>\n",
       "  </thead>\n",
       "  <tbody>\n",
       "    <tr>\n",
       "      <th>0</th>\n",
       "      <td>2010</td>\n",
       "      <td>199534</td>\n",
       "    </tr>\n",
       "    <tr>\n",
       "      <th>1</th>\n",
       "      <td>2011</td>\n",
       "      <td>238011</td>\n",
       "    </tr>\n",
       "    <tr>\n",
       "      <th>2</th>\n",
       "      <td>2012</td>\n",
       "      <td>315230</td>\n",
       "    </tr>\n",
       "    <tr>\n",
       "      <th>3</th>\n",
       "      <td>2013</td>\n",
       "      <td>350513</td>\n",
       "    </tr>\n",
       "    <tr>\n",
       "      <th>4</th>\n",
       "      <td>2014</td>\n",
       "      <td>402160</td>\n",
       "    </tr>\n",
       "    <tr>\n",
       "      <th>5</th>\n",
       "      <td>2015</td>\n",
       "      <td>470053</td>\n",
       "    </tr>\n",
       "    <tr>\n",
       "      <th>6</th>\n",
       "      <td>2016</td>\n",
       "      <td>468687</td>\n",
       "    </tr>\n",
       "    <tr>\n",
       "      <th>7</th>\n",
       "      <td>2017</td>\n",
       "      <td>497888</td>\n",
       "    </tr>\n",
       "    <tr>\n",
       "      <th>8</th>\n",
       "      <td>2018</td>\n",
       "      <td>1135526</td>\n",
       "    </tr>\n",
       "  </tbody>\n",
       "</table>\n",
       "</div>"
      ],
      "text/plain": [
       "   Year  female_adv_pet_count\n",
       "0  2010                199534\n",
       "1  2011                238011\n",
       "2  2012                315230\n",
       "3  2013                350513\n",
       "4  2014                402160\n",
       "5  2015                470053\n",
       "6  2016                468687\n",
       "7  2017                497888\n",
       "8  2018               1135526"
      ]
     },
     "execution_count": 27,
     "metadata": {},
     "output_type": "execute_result"
    }
   ],
   "source": [
    "df"
   ]
  },
  {
   "cell_type": "code",
   "execution_count": 28,
   "id": "usual-florida",
   "metadata": {},
   "outputs": [],
   "source": [
    "maxvalue = df['female_adv_pet_count'].max()"
   ]
  },
  {
   "cell_type": "code",
   "execution_count": 29,
   "id": "derived-profession",
   "metadata": {},
   "outputs": [
    {
     "data": {
      "text/plain": [
       "1135526"
      ]
     },
     "execution_count": 29,
     "metadata": {},
     "output_type": "execute_result"
    }
   ],
   "source": [
    "maxvalue"
   ]
  },
  {
   "cell_type": "code",
   "execution_count": 30,
   "id": "lonely-replication",
   "metadata": {},
   "outputs": [],
   "source": [
    "maxvalue_df = df.max()"
   ]
  },
  {
   "cell_type": "code",
   "execution_count": 31,
   "id": "legislative-offer",
   "metadata": {},
   "outputs": [
    {
     "data": {
      "text/plain": [
       "Year                       2018\n",
       "female_adv_pet_count    1135526\n",
       "dtype: int64"
      ]
     },
     "execution_count": 31,
     "metadata": {},
     "output_type": "execute_result"
    }
   ],
   "source": [
    "maxvalue_df"
   ]
  },
  {
   "cell_type": "code",
   "execution_count": 68,
   "id": "whole-intellectual",
   "metadata": {},
   "outputs": [
    {
     "name": "stdout",
     "output_type": "stream",
     "text": [
      "[8]\n"
     ]
    }
   ],
   "source": [
    "#maxvalue_df['Year']\n",
    "max_index_value_def = df[df[\"female_adv_pet_count\"] == maxvalue].index.values\n",
    "#print(df[\"Year\"][max_index_value].values)\n",
    "#maxvalue\n",
    "#df[df[\"female_adv_pet_count\"] == maxvalue].index.values\n",
    "print(max_index_value_def)"
   ]
  },
  {
   "cell_type": "code",
   "execution_count": 69,
   "id": "athletic-adaptation",
   "metadata": {},
   "outputs": [
    {
     "name": "stdout",
     "output_type": "stream",
     "text": [
      "[2018]\n"
     ]
    }
   ],
   "source": [
    "print(df[\"Year\"][max_index_value_def].values)"
   ]
  },
  {
   "cell_type": "code",
   "execution_count": 35,
   "id": "commercial-shark",
   "metadata": {},
   "outputs": [],
   "source": [
    "cases2010_female_adv_def = pd.read_csv(\"cases_2010.csv\", usecols=[\"year\",\"female_adv_def\"])\n",
    "cases2011_female_adv_def = pd.read_csv(\"cases_2011.csv\", usecols=[\"year\",\"female_adv_def\"])\n",
    "cases2012_female_adv_def = pd.read_csv(\"cases_2012.csv\", usecols=[\"year\",\"female_adv_def\"])\n",
    "cases2013_female_adv_def = pd.read_csv(\"cases_2013.csv\", usecols=[\"year\",\"female_adv_def\"])\n",
    "cases2014_female_adv_def = pd.read_csv(\"cases_2014.csv\", usecols=[\"year\",\"female_adv_def\"])\n",
    "cases2015_female_adv_def = pd.read_csv(\"cases_2015.csv\", usecols=[\"year\",\"female_adv_def\"])\n",
    "cases2016_female_adv_def = pd.read_csv(\"cases_2016.csv\", usecols=[\"year\",\"female_adv_def\"])\n",
    "cases2017_female_adv_def = pd.read_csv(\"cases_2017.csv\", usecols=[\"year\",\"female_adv_def\"])\n",
    "cases2018_female_adv_def = pd.read_csv(\"cases_2018.csv\", usecols=[\"year\",\"female_adv_def\"])"
   ]
  },
  {
   "cell_type": "code",
   "execution_count": 36,
   "id": "radical-allergy",
   "metadata": {},
   "outputs": [],
   "source": [
    "female_adv_def = list()\n",
    "female_adv_def.append((2010,int(cases2010_female_adv_def[cases2010_female_adv_def['female_adv_def'] == 1].value_counts())))\n",
    "female_adv_def.append((2011,int(cases2011_female_adv_def[cases2011_female_adv_def['female_adv_def'] == 1].value_counts())))\n",
    "female_adv_def.append((2012,int(cases2012_female_adv_def[cases2012_female_adv_def['female_adv_def'] == 1].value_counts())))\n",
    "female_adv_def.append((2013,int(cases2013_female_adv_def[cases2013_female_adv_def['female_adv_def'] == 1].value_counts())))\n",
    "female_adv_def.append((2014,int(cases2014_female_adv_def[cases2014_female_adv_def['female_adv_def'] == 1].value_counts())))\n",
    "female_adv_def.append((2015,int(cases2015_female_adv_def[cases2015_female_adv_def['female_adv_def'] == 1].value_counts())))\n",
    "female_adv_def.append((2016,int(cases2016_female_adv_def[cases2016_female_adv_def['female_adv_def'] == 1].value_counts())))\n",
    "female_adv_def.append((2017,int(cases2017_female_adv_def[cases2017_female_adv_def['female_adv_def'] == 1].value_counts())))\n",
    "female_adv_def.append((2018,int(cases2018_female_adv_def[cases2018_female_adv_def['female_adv_def'] == 1].value_counts())))"
   ]
  },
  {
   "cell_type": "code",
   "execution_count": 37,
   "id": "dated-brick",
   "metadata": {},
   "outputs": [
    {
     "data": {
      "text/plain": [
       "[(2010, 81644),\n",
       " (2011, 91480),\n",
       " (2012, 100899),\n",
       " (2013, 100444),\n",
       " (2014, 101384),\n",
       " (2015, 94860),\n",
       " (2016, 76824),\n",
       " (2017, 72500),\n",
       " (2018, 75534)]"
      ]
     },
     "execution_count": 37,
     "metadata": {},
     "output_type": "execute_result"
    }
   ],
   "source": [
    "female_adv_def"
   ]
  },
  {
   "cell_type": "code",
   "execution_count": 38,
   "id": "german-progressive",
   "metadata": {},
   "outputs": [
    {
     "data": {
      "text/plain": [
       "list"
      ]
     },
     "execution_count": 38,
     "metadata": {},
     "output_type": "execute_result"
    }
   ],
   "source": [
    "type(female_adv_def)"
   ]
  },
  {
   "cell_type": "code",
   "execution_count": 39,
   "id": "valued-daily",
   "metadata": {},
   "outputs": [],
   "source": [
    "df_female_adv_def = pd.DataFrame(female_adv_def,columns = ['Year', 'female_adv_def_count'])"
   ]
  },
  {
   "cell_type": "code",
   "execution_count": 40,
   "id": "wanted-folks",
   "metadata": {},
   "outputs": [
    {
     "data": {
      "text/html": [
       "<div>\n",
       "<style scoped>\n",
       "    .dataframe tbody tr th:only-of-type {\n",
       "        vertical-align: middle;\n",
       "    }\n",
       "\n",
       "    .dataframe tbody tr th {\n",
       "        vertical-align: top;\n",
       "    }\n",
       "\n",
       "    .dataframe thead th {\n",
       "        text-align: right;\n",
       "    }\n",
       "</style>\n",
       "<table border=\"1\" class=\"dataframe\">\n",
       "  <thead>\n",
       "    <tr style=\"text-align: right;\">\n",
       "      <th></th>\n",
       "      <th>Year</th>\n",
       "      <th>female_adv_def_count</th>\n",
       "    </tr>\n",
       "  </thead>\n",
       "  <tbody>\n",
       "    <tr>\n",
       "      <th>0</th>\n",
       "      <td>2010</td>\n",
       "      <td>81644</td>\n",
       "    </tr>\n",
       "    <tr>\n",
       "      <th>1</th>\n",
       "      <td>2011</td>\n",
       "      <td>91480</td>\n",
       "    </tr>\n",
       "    <tr>\n",
       "      <th>2</th>\n",
       "      <td>2012</td>\n",
       "      <td>100899</td>\n",
       "    </tr>\n",
       "    <tr>\n",
       "      <th>3</th>\n",
       "      <td>2013</td>\n",
       "      <td>100444</td>\n",
       "    </tr>\n",
       "    <tr>\n",
       "      <th>4</th>\n",
       "      <td>2014</td>\n",
       "      <td>101384</td>\n",
       "    </tr>\n",
       "    <tr>\n",
       "      <th>5</th>\n",
       "      <td>2015</td>\n",
       "      <td>94860</td>\n",
       "    </tr>\n",
       "    <tr>\n",
       "      <th>6</th>\n",
       "      <td>2016</td>\n",
       "      <td>76824</td>\n",
       "    </tr>\n",
       "    <tr>\n",
       "      <th>7</th>\n",
       "      <td>2017</td>\n",
       "      <td>72500</td>\n",
       "    </tr>\n",
       "    <tr>\n",
       "      <th>8</th>\n",
       "      <td>2018</td>\n",
       "      <td>75534</td>\n",
       "    </tr>\n",
       "  </tbody>\n",
       "</table>\n",
       "</div>"
      ],
      "text/plain": [
       "   Year  female_adv_def_count\n",
       "0  2010                 81644\n",
       "1  2011                 91480\n",
       "2  2012                100899\n",
       "3  2013                100444\n",
       "4  2014                101384\n",
       "5  2015                 94860\n",
       "6  2016                 76824\n",
       "7  2017                 72500\n",
       "8  2018                 75534"
      ]
     },
     "execution_count": 40,
     "metadata": {},
     "output_type": "execute_result"
    }
   ],
   "source": [
    "df_female_adv_def"
   ]
  },
  {
   "cell_type": "code",
   "execution_count": 45,
   "id": "synthetic-knock",
   "metadata": {},
   "outputs": [],
   "source": [
    "max_value = df_female_adv_def[\"female_adv_def_count\"].max()"
   ]
  },
  {
   "cell_type": "code",
   "execution_count": 46,
   "id": "reserved-bumper",
   "metadata": {},
   "outputs": [
    {
     "data": {
      "text/plain": [
       "101384"
      ]
     },
     "execution_count": 46,
     "metadata": {},
     "output_type": "execute_result"
    }
   ],
   "source": [
    "max_value"
   ]
  },
  {
   "cell_type": "code",
   "execution_count": 55,
   "id": "labeled-ground",
   "metadata": {},
   "outputs": [],
   "source": [
    "max_index_value = df_female_adv_def[df_female_adv_def[\"female_adv_def_count\"] == max_value].index.values"
   ]
  },
  {
   "cell_type": "code",
   "execution_count": 56,
   "id": "actual-mauritius",
   "metadata": {},
   "outputs": [
    {
     "data": {
      "text/plain": [
       "array([4], dtype=int64)"
      ]
     },
     "execution_count": 56,
     "metadata": {},
     "output_type": "execute_result"
    }
   ],
   "source": [
    "max_index_value"
   ]
  },
  {
   "cell_type": "code",
   "execution_count": 63,
   "id": "documentary-candle",
   "metadata": {},
   "outputs": [
    {
     "name": "stdout",
     "output_type": "stream",
     "text": [
      "[2014]\n"
     ]
    }
   ],
   "source": [
    "print(df_female_adv_def[\"Year\"][max_index_value].values)"
   ]
  },
  {
   "cell_type": "code",
   "execution_count": 71,
   "id": "loaded-firmware",
   "metadata": {},
   "outputs": [],
   "source": [
    "#longest_case2010_female_adv_def = (pd.read_csv(\"cases_2011.csv\", usecols=[\"female_adv_def\",\"date_of_filing\",\"date_of_decision\"])[lambda x: x['female_adv_def'] == 1])"
   ]
  },
  {
   "cell_type": "code",
   "execution_count": 19,
   "id": "decreased-location",
   "metadata": {},
   "outputs": [],
   "source": [
    "#longest_case2010_female_adv_def.shape"
   ]
  },
  {
   "cell_type": "code",
   "execution_count": 18,
   "id": "incomplete-millennium",
   "metadata": {},
   "outputs": [],
   "source": [
    "#longest_case2010_female_adv_def.head()"
   ]
  },
  {
   "cell_type": "code",
   "execution_count": 17,
   "id": "introductory-moisture",
   "metadata": {},
   "outputs": [],
   "source": [
    "#longest_case2010_female_adv_def.dtypes"
   ]
  },
  {
   "cell_type": "code",
   "execution_count": 16,
   "id": "steady-filename",
   "metadata": {},
   "outputs": [],
   "source": [
    "#longest_case2010_female_adv_def.head()"
   ]
  },
  {
   "cell_type": "code",
   "execution_count": 15,
   "id": "seeing-hygiene",
   "metadata": {},
   "outputs": [],
   "source": [
    "#longest_case2010_female_adv_def['date_of_filing_new'] = pd.to_datetime(longest_case2010_female_adv_def['date_of_filing'], format='%Y-%m-%d')\n",
    "#longest_case2010_female_adv_def['date_of_decision_new'] = pd.to_datetime(longest_case2010_female_adv_def['date_of_decision'], format='%Y-%m-%d')\n",
    "\n",
    "#regex = \"2010$\"\n",
    "#longest_case2010_female_adv_def[\"date_of_filing\"] == \"\"\n",
    "#longest_case2010_female_adv_def = longest_case2010_female_adv_def[longest_case2010_female_adv_def.date_of_filing.str.match('(2010*)').str.len() > 0]\n",
    "#longest_case2010_female_adv_def[longest_case2010_female_adv_def.date_of_decision.astype(str).match('(2010.*)').str.len() > 0]\n",
    "#longest_case2010_female_adv_def[longest_case2010_female_adv_def['date_of_decision'] == '5000-01-02']\n",
    "#longest_case2010_female_adv_def['date_of_decision_new'] = pd.to_datetime(longest_case2010_female_adv_def['date_of_decision'], format='%Y-%m-%d')"
   ]
  },
  {
   "cell_type": "code",
   "execution_count": 106,
   "id": "atlantic-fountain",
   "metadata": {},
   "outputs": [],
   "source": [
    "#longest_case2010_female_adv_def.drop(longest_case2010_female_adv_def[longest_case2010_female_adv_def['date_of_decision'] == '5000-01-02'].index,inplace = True)"
   ]
  },
  {
   "cell_type": "code",
   "execution_count": 14,
   "id": "executive-circuit",
   "metadata": {},
   "outputs": [],
   "source": [
    "#longest_case2010_female_adv_def[longest_case2010_female_adv_def['date_of_decision'] == '5000-01-02']"
   ]
  },
  {
   "cell_type": "code",
   "execution_count": 13,
   "id": "sitting-equivalent",
   "metadata": {},
   "outputs": [],
   "source": [
    "#longest_case2010_female_adv_def[longest_case2010_female_adv_def['date_of_decision'] == '5000-01-01']"
   ]
  },
  {
   "cell_type": "code",
   "execution_count": 109,
   "id": "headed-ministry",
   "metadata": {},
   "outputs": [],
   "source": [
    "#longest_case2010_female_adv_def.drop(longest_case2010_female_adv_def[longest_case2010_female_adv_def['date_of_decision'] == '5000-01-01'].index,inplace = True)"
   ]
  },
  {
   "cell_type": "code",
   "execution_count": 111,
   "id": "grave-differential",
   "metadata": {},
   "outputs": [],
   "source": [
    "#longest_case2010_female_adv_def['date_of_decision_new'] = pd.to_datetime(longest_case2010_female_adv_def['date_of_decision'], format='%Y-%m-%d')"
   ]
  },
  {
   "cell_type": "code",
   "execution_count": 12,
   "id": "major-analysis",
   "metadata": {},
   "outputs": [],
   "source": [
    "#longest_case2010_female_adv_def.head()"
   ]
  },
  {
   "cell_type": "code",
   "execution_count": 11,
   "id": "sunset-lover",
   "metadata": {},
   "outputs": [],
   "source": [
    "#longest_case2010_female_adv_def.dtypes"
   ]
  },
  {
   "cell_type": "code",
   "execution_count": 10,
   "id": "laden-session",
   "metadata": {},
   "outputs": [],
   "source": [
    "#longest_case2010_female_adv_def.drop(['date_of_filing','date_of_decision'] , axis=1, inplace = True)"
   ]
  },
  {
   "cell_type": "code",
   "execution_count": 115,
   "id": "thousand-columbia",
   "metadata": {},
   "outputs": [],
   "source": [
    "#longest_case2010_female_adv_def['duration'] = longest_case2010_female_adv_def['date_of_decision_new'] - longest_case2010_female_adv_def['date_of_filing_new'] "
   ]
  },
  {
   "cell_type": "code",
   "execution_count": 9,
   "id": "alone-institution",
   "metadata": {},
   "outputs": [],
   "source": [
    "#longest_case2010_female_adv_def"
   ]
  },
  {
   "cell_type": "code",
   "execution_count": 117,
   "id": "domestic-prevention",
   "metadata": {},
   "outputs": [],
   "source": [
    "#longest_case2010_female_adv_def.drop(['date_of_filing','date_of_decision'] , axis=1, inplace = True)"
   ]
  },
  {
   "cell_type": "code",
   "execution_count": 119,
   "id": "entertaining-facility",
   "metadata": {},
   "outputs": [],
   "source": [
    "#longest_case2010_female_adv_def.drop(['date_of_filing_new','date_of_decision_new'] , axis=1, inplace = True)"
   ]
  },
  {
   "cell_type": "code",
   "execution_count": 8,
   "id": "competent-neighborhood",
   "metadata": {},
   "outputs": [],
   "source": [
    "#longest_case2010_female_adv_def"
   ]
  },
  {
   "cell_type": "code",
   "execution_count": 121,
   "id": "ambient-regulation",
   "metadata": {},
   "outputs": [],
   "source": [
    "#longest_case2010_female_adv_def = (pd.read_csv(\"cases_2010.csv\", usecols=[\"female_adv_def\",\"date_of_filing\",\"date_of_decision\"])[lambda x: x['female_adv_def'] == 1])"
   ]
  },
  {
   "cell_type": "code",
   "execution_count": 123,
   "id": "embedded-corrections",
   "metadata": {},
   "outputs": [],
   "source": [
    "#longest_case2010_female_adv_def.drop(longest_case2010_female_adv_def[longest_case2010_female_adv_def['date_of_decision'] == '201-09-11'].index,inplace = True)"
   ]
  },
  {
   "cell_type": "code",
   "execution_count": 7,
   "id": "usual-liquid",
   "metadata": {},
   "outputs": [],
   "source": [
    "#longest_case2010_female_adv_def[longest_case2010_female_adv_def['date_of_decision'] == '201-09-11']"
   ]
  },
  {
   "cell_type": "code",
   "execution_count": 6,
   "id": "connected-season",
   "metadata": {},
   "outputs": [],
   "source": [
    "#longest_case2010_female_adv_def[longest_case2010_female_adv_def['date_of_decision'] == '201-09-11'].index"
   ]
  },
  {
   "cell_type": "code",
   "execution_count": 5,
   "id": "informational-michigan",
   "metadata": {},
   "outputs": [],
   "source": [
    "#longest_case2010_female_adv_def.dtypes"
   ]
  },
  {
   "cell_type": "code",
   "execution_count": 1,
   "id": "suitable-cemetery",
   "metadata": {},
   "outputs": [],
   "source": [
    "#longest_case2010_female_adv_def['date_of_filing_new'] = pd.to_datetime(longest_case2010_female_adv_def['date_of_filing'], format='%Y-%m-%d')\n",
    "#longest_case2010_female_adv_def['date_of_decision_new'] = pd.to_datetime(longest_case2010_female_adv_def['date_of_decision'], format='%Y-%m-%d')\n"
   ]
  },
  {
   "cell_type": "code",
   "execution_count": 2,
   "id": "sustainable-pearl",
   "metadata": {},
   "outputs": [],
   "source": [
    "#longest_case2010_female_adv_def['date_of_decision'] == '201-09-11'"
   ]
  },
  {
   "cell_type": "code",
   "execution_count": 3,
   "id": "olive-municipality",
   "metadata": {},
   "outputs": [],
   "source": [
    "#string = '201-'\n",
    "#for value in longest_case2010_female_adv_def['date_of_decision']:\n",
    "#    if string in value:\n",
    "#        print('Yes')"
   ]
  },
  {
   "cell_type": "code",
   "execution_count": 4,
   "id": "twenty-albuquerque",
   "metadata": {},
   "outputs": [],
   "source": [
    "#longest_case2010_female_adv_def['date_of_decision_new'] = pd.to_datetime(longest_case2010_female_adv_def['date_of_decision'], format='%Y-%m-%d')\n"
   ]
  },
  {
   "cell_type": "code",
   "execution_count": null,
   "id": "absent-daily",
   "metadata": {},
   "outputs": [],
   "source": []
  }
 ],
 "metadata": {
  "kernelspec": {
   "display_name": "Python 3",
   "language": "python",
   "name": "python3"
  },
  "language_info": {
   "codemirror_mode": {
    "name": "ipython",
    "version": 3
   },
   "file_extension": ".py",
   "mimetype": "text/x-python",
   "name": "python",
   "nbconvert_exporter": "python",
   "pygments_lexer": "ipython3",
   "version": "3.8.7"
  }
 },
 "nbformat": 4,
 "nbformat_minor": 5
}
